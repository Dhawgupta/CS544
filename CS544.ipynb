{
 "cells": [
  {
   "cell_type": "code",
   "execution_count": 22,
   "metadata": {
    "collapsed": true
   },
   "outputs": [],
   "source": [
    "# Importing all the important header files\n",
    "import snap\n",
    "import numpy as np\n",
    "import operator\n",
    "import networkx as nx\n",
    "import math\n",
    "import matplotlib.pyplot as plt\n",
    "import numpy.linalg\n",
    "\n",
    "\n",
    "# path of the dataset folder \n",
    "path = \"/home/dawg/Documents/Semester-5/CS544/Project/Snap/Data_higgs/\"\n",
    "\n"
   ]
  },
  {
   "cell_type": "code",
   "execution_count": 23,
   "metadata": {
    "collapsed": true
   },
   "outputs": [],
   "source": [
    "# Importing the Dataset for Snap Graph\n",
    "g_snap = snap.LoadEdgeList(snap.PNGraph, path+\"higgs-retweet_network.edgelist\" ,0 ,1)"
   ]
  },
  {
   "cell_type": "code",
   "execution_count": 24,
   "metadata": {},
   "outputs": [
    {
     "name": "stdout",
     "output_type": "stream",
     "text": [
      "Number of Nodes:  256491\n",
      "Number of Edges:  328132\n"
     ]
    }
   ],
   "source": [
    "# displaying the properties of network\n",
    "print \"Number of Nodes: \" ,g_snap.GetNodes()\n",
    "print \"Number of Edges: \" ,g_snap.GetEdges()\n"
   ]
  },
  {
   "cell_type": "code",
   "execution_count": 25,
   "metadata": {},
   "outputs": [
    {
     "name": "stdout",
     "output_type": "stream",
     "text": [
      "Starting the Data extraction: \n",
      "Graph extraction complete\n"
     ]
    }
   ],
   "source": [
    "# importing the graph for networkx library\n",
    "# g_nx = \n",
    "# defining the graph \n",
    "g_nx = nx.DiGraph()\n",
    "print \"Starting the Data extraction: \"\n",
    "with open(path+\"higgs-retweet_network.edgelist\", 'rb') as fil:\n",
    "\ta = fil.readline()\n",
    "\twhile a:\n",
    "\t\tdest, src,weight = a.split(\" \")\n",
    "\t\t# print dest, src , weight\n",
    "\t\tdest = int(dest)\n",
    "\t\tsrc = int(src)\n",
    "\t\tweight = int(weight)\n",
    "\t\tg_nx.add_edge(dest, src) # g_nx is the graph\n",
    "\t\ta = fil.readline()\n",
    "\n",
    "print \"Graph extraction complete\"\n",
    "outDeg =  list(g_nx.out_degree([i for i in range(len(g_nx))]).values())\n",
    "inDeg = list(g_nx.in_degree([i for i in range(len(g_nx))]).values())\n"
   ]
  },
  {
   "cell_type": "code",
   "execution_count": 26,
   "metadata": {},
   "outputs": [
    {
     "name": "stdout",
     "output_type": "stream",
     "text": [
      "Number of Nodes:  256491\n",
      "Number of Edges:  328132\n"
     ]
    }
   ],
   "source": [
    "print \"Number of Nodes: \",g_nx.number_of_nodes()\n",
    "print \"Number of Edges: \",g_nx.number_of_edges()\n"
   ]
  },
  {
   "cell_type": "markdown",
   "metadata": {},
   "source": [
    "Here we are using two different librarie as we are using the pagerank algorithm as well as the katz centrality which is only availbale in each of the libraries."
   ]
  },
  {
   "cell_type": "code",
   "execution_count": 9,
   "metadata": {
    "collapsed": true
   },
   "outputs": [],
   "source": [
    "#plotting the indegree and outdegree of the graph\n",
    "bins = [0,1,2,3,4,5,6,7,8,9,10];\n",
    "plt.hist(inDeg, bins, histtype= \"bar\");"
   ]
  },
  {
   "cell_type": "code",
   "execution_count": 10,
   "metadata": {},
   "outputs": [
    {
     "data": {
      "image/png": "[encoded data removed]",
      "text/plain": [
       "<matplotlib.figure.Figure at 0x7f5964e65dd0>"
      ]
     },
     "metadata": {},
     "output_type": "display_data"
    }
   ],
   "source": [
    "plt.xlabel('In Degrees')\n",
    "plt.ylabel('Number of Nodes')\n",
    "plt.title('In Degree Distribution\\n Count vs Deg Max In Degrees:' + str(max(inDeg)))\n",
    "plt.show()"
   ]
  },
  {
   "cell_type": "code",
   "execution_count": 11,
   "metadata": {
    "collapsed": true
   },
   "outputs": [],
   "source": [
    "#plotting the indegree and outdegree of the graph\n",
    "bins = [0,1,2,3,4,5,6,7,8,9,10];\n",
    "plt.hist(outDeg, bins, histtype= \"bar\");"
   ]
  },
  {
   "cell_type": "code",
   "execution_count": 12,
   "metadata": {},
   "outputs": [
    {
     "data": {
      "image/png": "[encoded data removed]",
      "text/plain": [
       "<matplotlib.figure.Figure at 0x7f5923b53ed0>"
      ]
     },
     "metadata": {},
     "output_type": "display_data"
    }
   ],
   "source": [
    "plt.xlabel('Out Degrees')\n",
    "plt.ylabel('Number of Nodes')\n",
    "plt.title('Out Degree Distribution\\n Count vs Deg /Max Out Degrees:' + str(max(outDeg)))\n",
    "plt.show()"
   ]
  },
  {
   "cell_type": "markdown",
   "metadata": {},
   "source": [
    "As we can see in the graph that there are severel nodes which habe in Degree of 1 => there are very large number of people who have very small retweets.\n",
    "In the scene of Out Degree we can see that most of people have preffered to retweet two tweets and not one, this may affect the importance of node.\n"
   ]
  },
  {
   "cell_type": "code",
   "execution_count": 27,
   "metadata": {},
   "outputs": [
    {
     "name": "stdout",
     "output_type": "stream",
     "text": [
      "Starting the Data extraction: \n"
     ]
    }
   ],
   "source": [
    "# extracting the follower data\n",
    "node_id = [] # store the nodeid\n",
    "node_follower = [] # store the node follower for same\n",
    "print \"Starting the Data extraction: \"\n",
    "with open(path+\"followersout.txt\", 'rb') as fil:\n",
    "    a = fil.readline()\n",
    "#     print a.split()\n",
    "    while a:\n",
    "#         print a.split()\n",
    "        nodeid, follower= a.split()\n",
    "#         print a.split()\n",
    "        # print dest, src , weight\n",
    "        nodeid = int(nodeid)\n",
    "        follower = int(follower)\n",
    "        node_id.append(nodeid)\n",
    "        node_follower.append(follower)\n",
    "        a = fil.readline()\n"
   ]
  },
  {
   "cell_type": "code",
   "execution_count": 14,
   "metadata": {
    "collapsed": true
   },
   "outputs": [],
   "source": [
    "plt.hist(node_follower,bins = 50, histtype= \"bar\");"
   ]
  },
  {
   "cell_type": "code",
   "execution_count": 15,
   "metadata": {},
   "outputs": [
    {
     "data": {
      "image/png": "[encoded data removed]",
      "text/plain": [
       "<matplotlib.figure.Figure at 0x7f5923a96b10>"
      ]
     },
     "metadata": {},
     "output_type": "display_data"
    }
   ],
   "source": [
    "plt.xlabel('Number of followers')\n",
    "plt.ylabel('Count of User')\n",
    "plt.title('Follower Distribution Count vs Followers\\n:' + str(max(node_follower)))\n",
    "plt.show()"
   ]
  },
  {
   "cell_type": "markdown",
   "metadata": {},
   "source": [
    "As we can see power law is being followed by the network\n",
    "Now we will start with the centrality measures\n",
    "We will use two centrality measures\n",
    "1. PageRank\n",
    "2. Katz Centrality"
   ]
  },
  {
   "cell_type": "code",
   "execution_count": 28,
   "metadata": {},
   "outputs": [
    {
     "name": "stdout",
     "output_type": "stream",
     "text": [
      "256491\n"
     ]
    }
   ],
   "source": [
    "# Page Rank,for this we will be using SNAP library\n",
    "PGHash = snap.TIntFltH() # hash to store the Page Rank\n",
    "snap.GetPageRank(g_snap, PGHash, 0.85, 1e-4, 100)\n",
    "#C=0.85, Eps=1e-4, MaxIter=100\n",
    "\n",
    "x = dict()\n",
    "for item in PGHash: # converting from hash of snap to python dictionary\n",
    "\tx[item] = PGHash[item]\n",
    "\t# PageRank[i][0] = item\n",
    "\t# PageRank[i][1] = rankh[item]\n",
    "\n",
    "# Make a 2D matrix with (id, page rank value) sorted using the page rank\n",
    "# value of the nodes\n",
    "sorted_x = sorted(x.items(), key=operator.itemgetter(1)) \n",
    "\n",
    "ids = [] # individual lists for ease\n",
    "pgids = []\n",
    "print len(sorted_x)\n",
    "for i in range(len(sorted_x)):\n",
    "\tids.append(sorted_x[i][0])\n",
    "\tpgids.append(sorted_x[i][1])"
   ]
  },
  {
   "cell_type": "code",
   "execution_count": 29,
   "metadata": {},
   "outputs": [
    {
     "name": "stdout",
     "output_type": "stream",
     "text": [
      "The top five Influencers of Network Based on Page Rank Centrality \n",
      "ID: 88, Page Rank Value : 0.025392\n",
      "ID: 2342, Page Rank Value : 0.014608\n",
      "ID: 64911, Page Rank Value : 0.009107\n",
      "ID: 39420, Page Rank Value : 0.007351\n",
      "ID: 14454, Page Rank Value : 0.007130\n",
      "ID: 677, Page Rank Value : 0.006980\n",
      "ID: 2567, Page Rank Value : 0.006419\n",
      "ID: 134095, Page Rank Value : 0.006238\n",
      "ID: 169287, Page Rank Value : 0.006213\n",
      "ID: 1988, Page Rank Value : 0.005744\n"
     ]
    }
   ],
   "source": [
    "# print PageRank\n",
    "print \"The top five Influencers of Network Based on Page Rank Centrality \"\n",
    "nodes_pg = []\n",
    "for i in range(1,11):\n",
    "    print \"ID: %d, Page Rank Value : %f\"%(sorted_x[-i][0], sorted_x[-i][1])\n",
    "    nodes_pg.append(sorted_x[-i][0])\n"
   ]
  },
  {
   "cell_type": "code",
   "execution_count": 18,
   "metadata": {
    "collapsed": true
   },
   "outputs": [],
   "source": [
    "# plot the scatter plot for centrailty measures along side the user ids\n",
    "plt.scatter(ids, pgids, label=\"PageRank Values\");\n",
    "line_y = [sorted_x[-10][1] for i in range(0,500000)];\n",
    "line_x = [i for i in range(0,500000)];\n",
    "plt.plot(line_x, line_y,'r-',linewidth=1.0, label=\"Top 10 Influencers\");\n",
    "line_y = [sorted_x[-20][1] for i in range(0,500000)];\n",
    "line_x = [i for i in range(0,500000)];\n",
    "plt.plot(line_x, line_y,'g--',linewidth=1.0,label=\"Top 20 Influencers\");"
   ]
  },
  {
   "cell_type": "code",
   "execution_count": 19,
   "metadata": {},
   "outputs": [
    {
     "data": {
      "image/png": "[encoded data removed]",
      "text/plain": [
       "<matplotlib.figure.Figure at 0x7f5923969f50>"
      ]
     },
     "metadata": {},
     "output_type": "display_data"
    }
   ],
   "source": [
    "plt.xlabel('Twitter Ids')\n",
    "plt.ylabel('Page Rank Value')\n",
    "plt.title('Twitter Ids vs Page Rank Values\\n:')\n",
    "plt.ylim([0.0 , 0.02800])\n",
    "plt.xlim([0 , 400000])\n",
    "plt.legend()\n",
    "plt.show()"
   ]
  },
  {
   "cell_type": "markdown",
   "metadata": {},
   "source": [
    "So as we can see we get clear  influencers in the network i.e. User ID : 88 is the clear influencer in the network with a very high Page Rank Value 0.025392. The graph clearly shows that the majority of people are influenced by a small number of nodes"
   ]
  },
  {
   "cell_type": "code",
   "execution_count": 29,
   "metadata": {},
   "outputs": [
    {
     "name": "stdout",
     "output_type": "stream",
     "text": [
      "[1, 2, 3, 4, 5, 6, 7, 8, 9, 10]\n",
      "[22, 77, 25, 402, 58, 101, 99, 54, 29, 305]\n"
     ]
    }
   ],
   "source": [
    "print node_id[0:10]\n",
    "print node_follower[0:10]\n"
   ]
  },
  {
   "cell_type": "code",
   "execution_count": 1,
   "metadata": {},
   "outputs": [
    {
     "ename": "NameError",
     "evalue": "name 'sorted_x' is not defined",
     "output_type": "error",
     "traceback": [
      "\u001b[0;31m---------------------------------------------------------------------------\u001b[0m",
      "\u001b[0;31mNameError\u001b[0m                                 Traceback (most recent call last)",
      "\u001b[0;32m<ipython-input-1-eb690e28bd0a>\u001b[0m in \u001b[0;36m<module>\u001b[0;34m()\u001b[0m\n\u001b[1;32m      1\u001b[0m \u001b[0;31m# over here we will compare the followers vs Page Rank value\u001b[0m\u001b[0;34m\u001b[0m\u001b[0;34m\u001b[0m\u001b[0m\n\u001b[0;32m----> 2\u001b[0;31m \u001b[0;32mprint\u001b[0m \u001b[0mlen\u001b[0m\u001b[0;34m(\u001b[0m\u001b[0msorted_x\u001b[0m\u001b[0;34m)\u001b[0m\u001b[0;34m\u001b[0m\u001b[0m\n\u001b[0m\u001b[1;32m      3\u001b[0m \u001b[0;32mfor\u001b[0m \u001b[0mi\u001b[0m \u001b[0;32min\u001b[0m \u001b[0mrange\u001b[0m\u001b[0;34m(\u001b[0m\u001b[0mlen\u001b[0m\u001b[0;34m(\u001b[0m\u001b[0msorted_x\u001b[0m\u001b[0;34m)\u001b[0m\u001b[0;34m)\u001b[0m\u001b[0;34m:\u001b[0m\u001b[0;34m\u001b[0m\u001b[0m\n\u001b[1;32m      4\u001b[0m     \u001b[0mplt\u001b[0m\u001b[0;34m.\u001b[0m\u001b[0mscatter\u001b[0m\u001b[0;34m(\u001b[0m\u001b[0mnode_follower\u001b[0m\u001b[0;34m[\u001b[0m\u001b[0msorted_x\u001b[0m\u001b[0;34m[\u001b[0m\u001b[0mi\u001b[0m\u001b[0;34m]\u001b[0m\u001b[0;34m[\u001b[0m\u001b[0;36m0\u001b[0m\u001b[0;34m]\u001b[0m \u001b[0;34m-\u001b[0m\u001b[0;36m1\u001b[0m\u001b[0;34m]\u001b[0m\u001b[0;34m,\u001b[0m \u001b[0msorted_x\u001b[0m\u001b[0;34m[\u001b[0m\u001b[0mi\u001b[0m\u001b[0;34m]\u001b[0m\u001b[0;34m[\u001b[0m\u001b[0;36m1\u001b[0m\u001b[0;34m]\u001b[0m\u001b[0;34m)\u001b[0m\u001b[0;34m\u001b[0m\u001b[0m\n\u001b[1;32m      5\u001b[0m     \u001b[0;32mif\u001b[0m \u001b[0mi\u001b[0m\u001b[0;34m%\u001b[0m\u001b[0;36m100000\u001b[0m \u001b[0;34m==\u001b[0m \u001b[0;36m0\u001b[0m \u001b[0;34m:\u001b[0m\u001b[0;34m\u001b[0m\u001b[0m\n",
      "\u001b[0;31mNameError\u001b[0m: name 'sorted_x' is not defined"
     ]
    }
   ],
   "source": [
    "# over here we will compare the followers vs Page Rank value\n",
    "print len(sorted_x)\n",
    "for i in range(len(sorted_x)):\n",
    "    plt.scatter(node_follower[sorted_x[i][0] -1], sorted_x[i][1])\n",
    "    if i%100000 == 0 :\n",
    "        print i,\" : processed\"\n",
    "    \n",
    "#     plt.plot(node_follower[i],PGHash[i+1])\n",
    "    \n",
    "    \n"
   ]
  },
  {
   "cell_type": "code",
   "execution_count": null,
   "metadata": {
    "collapsed": true
   },
   "outputs": [],
   "source": [
    "plt.xlabel('Number of Followers')\n",
    "plt.ylabel('Page Rank Value')\n",
    "plt.title('Number of Follower vs Page Rank Values\\n:')\n",
    "plt.ylim([0.0 , 0.02800])\n",
    "# plt.xlim([0 , 400000])\n",
    "plt.legend()\n",
    "plt.show()\n"
   ]
  },
  {
   "cell_type": "markdown",
   "metadata": {},
   "source": [
    "Now we will measure the influence based on Katz centrality.\n",
    "Katz doest consider the degree of the node i.e the number of follower \n",
    "wont be affecting the result in any way"
   ]
  },
  {
   "cell_type": "code",
   "execution_count": null,
   "metadata": {
    "collapsed": true
   },
   "outputs": [],
   "source": [
    "# import networkx as nx\n",
    "# import numpy.linalg\n",
    "# import matplotlib.pyplot as plt\n",
    "\n",
    "# n = 1000 # 1000 nodes\n",
    "# m = 5000 # 5000 edges\n",
    "# G = nx.gnm_random_graph(n,m)\n",
    "\n",
    "# L = nx.normalized_laplacian_matrix(G)\n",
    "# e = numpy.linalg.eigvals(L.A)"
   ]
  },
  {
   "cell_type": "code",
   "execution_count": 9,
   "metadata": {},
   "outputs": [
    {
     "ename": "SyntaxError",
     "evalue": "invalid syntax (<ipython-input-9-3058fdde3a36>, line 3)",
     "output_type": "error",
     "traceback": [
      "\u001b[0;36m  File \u001b[0;32m\"<ipython-input-9-3058fdde3a36>\"\u001b[0;36m, line \u001b[0;32m3\u001b[0m\n\u001b[0;31m    ---------------------------------------------------------------------------\u001b[0m\n\u001b[0m                                                                               ^\u001b[0m\n\u001b[0;31mSyntaxError\u001b[0m\u001b[0;31m:\u001b[0m invalid syntax\n"
     ]
    }
   ],
   "source": [
    "# # eigenvalues(g_nx)\n",
    "# L = nx.normalized_laplacian_matrix(g_nx)\n",
    "# ---------------------------------------------------------------------------\n",
    "# NetworkXNotImplemented                    Traceback (most recent call last)\n",
    "# <ipython-input-8-a09a76478cc8> in <module>()\n",
    "#       1 # eigenvalues(g_nx)\n",
    "# ----> 2 L = nx.normalized_laplacian_matrix(g_nx)\n",
    "\n",
    "# /usr/local/lib/python2.7/dist-packages/networkx/linalg/laplacianmatrix.pyc in normalized_laplacian_matrix(G, nodelist, weight)\n",
    "\n",
    "# /usr/local/lib/python2.7/dist-packages/networkx/utils/decorators.pyc in _not_implemented_for(f, *args, **kwargs)\n",
    "#      64         if match:\n",
    "#      65             raise nx.NetworkXNotImplemented('not implemented for %s type'%\n",
    "# ---> 66                                             ' '.join(graph_types))\n",
    "#      67         else:\n",
    "#      68             return f(*args,**kwargs)\n",
    "\n",
    "# NetworkXNotImplemented: not implemented for directed type\n"
   ]
  },
  {
   "cell_type": "code",
   "execution_count": 43,
   "metadata": {},
   "outputs": [
    {
     "name": "stdout",
     "output_type": "stream",
     "text": [
      "256491\n"
     ]
    }
   ],
   "source": [
    "katz = nx.katz_centrality(g_nx)\n",
    "ids2 = [] # individual lists for ease\n",
    "katzids = []\n",
    "sorted_katz = sorted(katz.items(), key=operator.itemgetter(1))\n",
    "print len(sorted_katz)\n",
    "for i in range(len(sorted_katz)):\n",
    "\tids2.append(sorted_katz[i][0])\n",
    "\tkatzids.append(sorted_katz[i][1])"
   ]
  },
  {
   "cell_type": "code",
   "execution_count": 16,
   "metadata": {},
   "outputs": [
    {
     "name": "stdout",
     "output_type": "stream",
     "text": [
      "(88, 0.6837871340141356)\n"
     ]
    }
   ],
   "source": [
    "# max(stats.iteritems(), key=operator.itemgetter(1))[0]\n",
    "maximum = max(katz, key=katz.get)  # Just use 'min' instead of 'max' for minimum.\n",
    "print(maximum, katz[maximum])"
   ]
  },
  {
   "cell_type": "markdown",
   "metadata": {},
   "source": [
    "As we can clearliy see over here also the most infleuntial node is of ID 88 which matches our result from the page rank data"
   ]
  },
  {
   "cell_type": "code",
   "execution_count": 31,
   "metadata": {},
   "outputs": [
    {
     "name": "stdout",
     "output_type": "stream",
     "text": [
      "The top 10 Influencers of Network Based on Katz Centrality \n",
      "ID: 88, Katz Value : 0.683787\n",
      "ID: 677, Katz Value : 0.228995\n",
      "ID: 1988, Katz Value : 0.202322\n",
      "ID: 14454, Katz Value : 0.200034\n",
      "ID: 3998, Katz Value : 0.158585\n",
      "ID: 64911, Katz Value : 0.142780\n",
      "ID: 11991, Katz Value : 0.127363\n",
      "ID: 349, Katz Value : 0.121483\n",
      "ID: 5226, Katz Value : 0.119663\n",
      "ID: 42172, Katz Value : 0.113589\n"
     ]
    }
   ],
   "source": [
    "# print Katz\n",
    "print \"The top 10 Influencers of Network Based on Katz Centrality \"\n",
    "nodes_katz = []\n",
    "for i in range(1,11):\n",
    "    print \"ID: %d, Katz Value : %f\"%(sorted_katz[-i][0], sorted_katz[-i][1])\n",
    "    nodes_katz.append(sorted_katz[-i][0])"
   ]
  },
  {
   "cell_type": "code",
   "execution_count": 35,
   "metadata": {},
   "outputs": [
    {
     "name": "stdout",
     "output_type": "stream",
     "text": [
      "[88, 2342, 64911, 39420, 14454, 677, 2567, 134095, 169287, 1988]\n",
      "[88, 677, 1988, 14454, 3998, 64911, 11991, 349, 5226, 42172]\n"
     ]
    }
   ],
   "source": [
    "# >>> set(a).intersection(b)\n",
    "# set([5])\n",
    "print nodes_pg\n",
    "print nodes_katz\n",
    "\n"
   ]
  },
  {
   "cell_type": "code",
   "execution_count": 42,
   "metadata": {},
   "outputs": [
    {
     "name": "stdout",
     "output_type": "stream",
     "text": [
      "The Common Nodes between the 2 measures is  set([88, 1988, 677, 14454, 64911])\n",
      "5  nodes are common\n"
     ]
    }
   ],
   "source": [
    "print \"The Common Nodes between the 2 measures is \",set(nodes_pg).intersection(nodes_katz)\n",
    "print str(len(set(nodes_pg).intersection(nodes_katz))) + \"  nodes are common\""
   ]
  },
  {
   "cell_type": "code",
   "execution_count": 46,
   "metadata": {
    "collapsed": true
   },
   "outputs": [],
   "source": [
    "# plot the scatter plot for centrailty measures along side the user ids\n",
    "plt.scatter(ids2, katzids, label=\"Katz Values\");\n",
    "line_y = [sorted_katz[-10][1] for i in range(0,500000)];\n",
    "line_x = [i for i in range(0,500000)];\n",
    "plt.plot(line_x, line_y,'r-',linewidth=1.0, label=\"Top 10 Influencers\");\n",
    "line_y = [sorted_katz[-20][1] for i in range(0,500000)];\n",
    "line_x = [i for i in range(0,500000)];\n",
    "plt.plot(line_x, line_y,'g--',linewidth=1.0,label=\"Top 20 Influencers\");"
   ]
  },
  {
   "cell_type": "code",
   "execution_count": 47,
   "metadata": {},
   "outputs": [
    {
     "data": {
      "image/png": "[encoded data removed]",
      "text/plain": [
       "<matplotlib.figure.Figure at 0x7f76ab397a90>"
      ]
     },
     "metadata": {},
     "output_type": "display_data"
    }
   ],
   "source": [
    "plt.xlabel('Twitter Ids')\n",
    "plt.ylabel('Katz Value')\n",
    "plt.title('Twitter Ids vs KatzValue Values\\n:')\n",
    "plt.ylim([0.0 , 0.7])\n",
    "plt.xlim([0 , 400000])\n",
    "plt.legend()\n",
    "plt.show()"
   ]
  },
  {
   "cell_type": "markdown",
   "metadata": {},
   "source": [
    "It is quite clear from the Results the Node 88 is the most infuetial node in the network with following statistics"
   ]
  },
  {
   "cell_type": "code",
   "execution_count": 68,
   "metadata": {},
   "outputs": [
    {
     "name": "stdout",
     "output_type": "stream",
     "text": [
      "Node Number:  88\n",
      "Node Out Degree:  3\n",
      "Node In Degree:  14060\n",
      "Page Rank Value:  0.0253917651746\n",
      "Katz Value:  0.683787134014\n"
     ]
    }
   ],
   "source": [
    "print \"Node Number: \" ,node_id[87]\n",
    "print \"Node Out Degree: \", g_nx.out_degree(88)\n",
    "print \"Node In Degree: \", g_nx.in_degree(88)\n",
    "print \"Page Rank Value: \",x[88]\n",
    "print \"Katz Value: \", katz[88]"
   ]
  },
  {
   "cell_type": "markdown",
   "metadata": {},
   "source": [
    "EXTRA : Now we will intialisee the intial values based on the number of followers and check the result"
   ]
  },
  {
   "cell_type": "code",
   "execution_count": 58,
   "metadata": {},
   "outputs": [],
   "source": [
    "dict_nodes = dict()\n",
    "for i in ids:\n",
    "    dict_nodes[i] = node_follower[i-1]\n"
   ]
  },
  {
   "cell_type": "code",
   "execution_count": 59,
   "metadata": {
    "collapsed": true
   },
   "outputs": [],
   "source": [
    "katz2 = nx.katz_centrality(g_nx,0.1, dict_nodes)"
   ]
  },
  {
   "cell_type": "code",
   "execution_count": 62,
   "metadata": {},
   "outputs": [
    {
     "name": "stdout",
     "output_type": "stream",
     "text": [
      "256491\n"
     ]
    }
   ],
   "source": [
    "ids3 = [] # individual lists for ease\n",
    "katzids2 = []\n",
    "sorted_katz2 = sorted(katz2.items(), key=operator.itemgetter(1))\n",
    "print len(sorted_katz2)\n",
    "for i in range(len(sorted_katz2)):\n",
    "\tids3.append(sorted_katz2[i][0])\n",
    "\tkatzids2.append(sorted_katz2[i][1])"
   ]
  },
  {
   "cell_type": "code",
   "execution_count": 63,
   "metadata": {},
   "outputs": [
    {
     "name": "stdout",
     "output_type": "stream",
     "text": [
      "(88, 0.6837871340141356)\n"
     ]
    }
   ],
   "source": [
    "maximum = max(katz, key=katz.get)  # Just use 'min' instead of 'max' for minimum.\n",
    "print(maximum, katz[maximum])"
   ]
  },
  {
   "cell_type": "code",
   "execution_count": 65,
   "metadata": {},
   "outputs": [
    {
     "name": "stdout",
     "output_type": "stream",
     "text": [
      "The top 10 Influencers of Network Based on Katz Centrality \n",
      "ID: 88, Katz Value : 0.630692\n",
      "ID: 1988, Katz Value : 0.233478\n",
      "ID: 677, Katz Value : 0.213415\n",
      "ID: 3998, Katz Value : 0.190645\n",
      "ID: 11991, Katz Value : 0.154854\n",
      "ID: 5226, Katz Value : 0.152017\n",
      "ID: 64911, Katz Value : 0.150642\n",
      "ID: 42172, Katz Value : 0.135985\n",
      "ID: 13808, Katz Value : 0.130666\n",
      "ID: 14454, Katz Value : 0.126979\n"
     ]
    }
   ],
   "source": [
    "# print Katz\n",
    "print \"The top 10 Influencers of Network Based on Katz Centrality \"\n",
    "nodes_katz2 = []\n",
    "for i in range(1,11):\n",
    "    print \"ID: %d, Katz Value : %f\"%(sorted_katz2[-i][0], sorted_katz2[-i][1])\n",
    "    nodes_katz2.append(sorted_katz2[-i][0])"
   ]
  },
  {
   "cell_type": "code",
   "execution_count": 69,
   "metadata": {},
   "outputs": [
    {
     "name": "stdout",
     "output_type": "stream",
     "text": [
      "All these values match with the conventional Katz with out considering the followers set([1988, 677, 5226, 64911, 14454, 11991, 88, 42172, 3998])\n"
     ]
    }
   ],
   "source": [
    "print \"All these values match with the conventional Katz with out considering the followers\",set(nodes_katz).intersection(nodes_katz2)"
   ]
  },
  {
   "cell_type": "code",
   "execution_count": 71,
   "metadata": {},
   "outputs": [
    {
     "data": {
      "text/plain": [
       "{88, 677, 1988, 14454, 64911}"
      ]
     },
     "execution_count": 71,
     "metadata": {},
     "output_type": "execute_result"
    }
   ],
   "source": [
    "set(nodes_katz).intersection(nodes_katz2).intersection(nodes_pg)"
   ]
  },
  {
   "cell_type": "markdown",
   "metadata": {},
   "source": [
    "The Result are clearly indicate 88 as the most influential node and there is little difference between both the katz values"
   ]
  }
 ],
 "metadata": {
  "kernelspec": {
   "display_name": "Python 3",
   "language": "python",
   "name": "python3"
  },
  "language_info": {
   "codemirror_mode": {
    "name": "ipython",
    "version": 3
   },
   "file_extension": ".py",
   "mimetype": "text/x-python",
   "name": "python",
   "nbconvert_exporter": "python",
   "pygments_lexer": "ipython3",
   "version": "3.6.5"
  }
 },
 "nbformat": 4,
 "nbformat_minor": 2
}
